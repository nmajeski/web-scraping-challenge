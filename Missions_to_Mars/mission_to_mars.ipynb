{
 "cells": [
  {
   "cell_type": "code",
   "execution_count": 2,
   "metadata": {},
   "outputs": [],
   "source": [
    "# Dependencies\n",
    "from splinter import Browser\n",
    "from bs4 import BeautifulSoup\n",
    "import pandas as pd"
   ]
  },
  {
   "cell_type": "code",
   "execution_count": 3,
   "metadata": {},
   "outputs": [],
   "source": [
    "executable_path = {'executable_path': '/usr/local/bin/chromedriver'}\n",
    "browser = Browser('chrome', **executable_path, headless=False)"
   ]
  },
  {
   "cell_type": "code",
   "execution_count": 4,
   "metadata": {},
   "outputs": [
    {
     "name": "stdout",
     "output_type": "stream",
     "text": [
      "Found news title: Mars InSight Lander to Push on Top of the 'Mole'\n",
      "Found news paragraph: Engineers have a plan for pushing down on the heat probe, which has been stuck at the Martian surface for a year.\n"
     ]
    }
   ],
   "source": [
    "news_title = None\n",
    "news_p = None\n",
    "\n",
    "url = 'https://mars.nasa.gov/news/'\n",
    "browser.visit(url)\n",
    "\n",
    "is_visible = browser.is_element_visible_by_css('ul.item_list', wait_time=10)\n",
    "if is_visible:\n",
    "    try:\n",
    "        slides = browser.find_by_css('li.slide')\n",
    "        image_and_description_container = slides[0].find_by_css('div.image_and_description_container')\n",
    "        list_text = image_and_description_container.find_by_css('div.list_text')\n",
    "        news_title = list_text.find_by_css('a').text\n",
    "        print(f\"Found news title: {news_title}\")\n",
    "        news_p = list_text.find_by_css('div.article_teaser_body').text\n",
    "        print(f\"Found news paragraph: {news_p}\")\n",
    "    except:\n",
    "        print(\"Error finding the news title and/or news paragraph...\")\n",
    "else:\n",
    "    print(\"Could not find any top news.\")"
   ]
  },
  {
   "cell_type": "code",
   "execution_count": 5,
   "metadata": {},
   "outputs": [
    {
     "name": "stdout",
     "output_type": "stream",
     "text": [
      "Found featured image URL https://www.jpl.nasa.gov/spaceimages/images/wallpaper/PIA14417-1920x1200.jpg.\n"
     ]
    }
   ],
   "source": [
    "featured_image_domain = 'https://www.jpl.nasa.gov'\n",
    "featured_image_url = None\n",
    "url = 'https://www.jpl.nasa.gov/spaceimages/?search=&category=Mars'\n",
    "browser.visit(url)\n",
    "\n",
    "is_visible = browser.is_element_visible_by_css('article.carousel_item', wait_time=10)\n",
    "if is_visible:\n",
    "    try:\n",
    "        carousel_item = browser.find_by_css('article.carousel_item')\n",
    "        background_image_str = carousel_item['style']\n",
    "        url_ending_start_index = background_image_str.find('\"') + 1\n",
    "        url_ending_end_index = background_image_str.rfind('\"')\n",
    "        background_image_url_ending = background_image_str[url_ending_start_index:url_ending_end_index]\n",
    "        featured_image_url = featured_image_domain + background_image_url_ending\n",
    "        print(f\"Found featured image URL {featured_image_url}.\")\n",
    "    except:\n",
    "        print(\"Error finding feature image URL...\")\n",
    "else:\n",
    "    print(\"Could not find a feature image.\")"
   ]
  },
  {
   "cell_type": "code",
   "execution_count": 6,
   "metadata": {},
   "outputs": [
    {
     "name": "stdout",
     "output_type": "stream",
     "text": [
      "Found mars weather tweet: InSight sol 439 (2020-02-20) low -94.7ºC (-138.4ºF) high -9.3ºC (15.2ºF)\n",
      "winds from the SSE at 6.5 m/s (14.6 mph) gusting to 23.2 m/s (51.9 mph)\n",
      "pressure at 6.30 hPa\n"
     ]
    }
   ],
   "source": [
    "mars_weather = None\n",
    "url = 'https://twitter.com/marswxreport?lang=en'\n",
    "browser.visit(url)\n",
    "\n",
    "is_visible = browser.is_element_visible_by_css('div.css-901oao.r-hkyrab.r-1qd0xha.r-a023e6.r-16dba41.r-ad9z0x.r-bcqeeo.r-bnwqim.r-qvutc0', wait_time=10)\n",
    "if is_visible:\n",
    "    try:\n",
    "        tweet = browser.find_by_css('div.css-901oao.r-hkyrab.r-1qd0xha.r-a023e6.r-16dba41.r-ad9z0x.r-bcqeeo.r-bnwqim.r-qvutc0')\n",
    "        mars_weather = tweet.text\n",
    "        print(f\"Found mars weather tweet: {mars_weather}\")\n",
    "    except:\n",
    "        print(\"Error finding Mars weather tweet...\")\n",
    "else:\n",
    "    print(\"Could not find the tweets for Mars weather.\")"
   ]
  },
  {
   "cell_type": "code",
   "execution_count": 19,
   "metadata": {},
   "outputs": [
    {
     "name": "stdout",
     "output_type": "stream",
     "text": [
      "Table HTML string:\n"
     ]
    },
    {
     "data": {
      "text/plain": [
       "'<table border=\"1\" class=\"dataframe\">\\n  <thead>\\n    <tr style=\"text-align: right;\">\\n      <th></th>\\n      <th>Data</th>\\n    </tr>\\n    <tr>\\n      <th></th>\\n      <th></th>\\n    </tr>\\n  </thead>\\n  <tbody>\\n    <tr>\\n      <th>Equatorial Diameter:</th>\\n      <td>6,792 km</td>\\n    </tr>\\n    <tr>\\n      <th>Polar Diameter:</th>\\n      <td>6,752 km</td>\\n    </tr>\\n    <tr>\\n      <th>Mass:</th>\\n      <td>6.39 × 10^23 kg (0.11 Earths)</td>\\n    </tr>\\n    <tr>\\n      <th>Moons:</th>\\n      <td>2 (Phobos &amp; Deimos)</td>\\n    </tr>\\n    <tr>\\n      <th>Orbit Distance:</th>\\n      <td>227,943,824 km (1.38 AU)</td>\\n    </tr>\\n    <tr>\\n      <th>Orbit Period:</th>\\n      <td>687 days (1.9 years)</td>\\n    </tr>\\n    <tr>\\n      <th>Surface Temperature:</th>\\n      <td>-87 to -5 °C</td>\\n    </tr>\\n    <tr>\\n      <th>First Record:</th>\\n      <td>2nd millennium BC</td>\\n    </tr>\\n    <tr>\\n      <th>Recorded By:</th>\\n      <td>Egyptian astronomers</td>\\n    </tr>\\n  </tbody>\\n</table>'"
      ]
     },
     "execution_count": 19,
     "metadata": {},
     "output_type": "execute_result"
    }
   ],
   "source": [
    "url = 'https://space-facts.com/mars/'\n",
    "tables = pd.read_html(url)\n",
    "df = tables[0]\n",
    "df.columns = ['', 'Data']\n",
    "df = df.set_index('')\n",
    "html_str = df.to_html()\n",
    "print(\"Table HTML string:\")\n",
    "html_str"
   ]
  },
  {
   "cell_type": "code",
   "execution_count": 20,
   "metadata": {},
   "outputs": [
    {
     "name": "stdout",
     "output_type": "stream",
     "text": [
      "Found hemisphere titles and image URLs: [{'title': 'Cerberus Hemisphere Enhanced', 'img_url': 'http://astropedia.astrogeology.usgs.gov/download/Mars/Viking/cerberus_enhanced.tif'}, {'title': 'Schiaparelli Hemisphere Enhanced', 'img_url': 'http://astropedia.astrogeology.usgs.gov/download/Mars/Viking/schiaparelli_enhanced.tif'}, {'title': 'Syrtis Major Hemisphere Enhanced', 'img_url': 'http://astropedia.astrogeology.usgs.gov/download/Mars/Viking/syrtis_major_enhanced.tif'}, {'title': 'Valles Marineris Hemisphere Enhanced', 'img_url': 'http://astropedia.astrogeology.usgs.gov/download/Mars/Viking/valles_marineris_enhanced.tif'}]\n"
     ]
    }
   ],
   "source": [
    "hemisphere_image_urls = None\n",
    "url = 'https://astrogeology.usgs.gov/search/results?q=hemisphere+enhanced&k1=target&v1=Mars'\n",
    "browser.visit(url)\n",
    "\n",
    "is_visible = browser.is_element_visible_by_css(\"div.collapsible.results\", wait_time=10)\n",
    "if is_visible:\n",
    "    try:\n",
    "        results = browser.find_by_css(\"div.collapsible.results\")\n",
    "        items = results.find_by_tag('div.item')\n",
    "        item0 = items[0]\n",
    "        item_link0 = item0.find_by_css('div.description a')\n",
    "        title0 = item_link0.find_by_tag('h3').text\n",
    "        url0 = item_link0['href']\n",
    "        item1 = items[1]\n",
    "        item_link1 = item1.find_by_css('div.description a')\n",
    "        title1 = item_link1.find_by_tag('h3').text\n",
    "        url1 = item_link1['href']\n",
    "        item2 = items[2]\n",
    "        item_link2 = item2.find_by_css('div.description a')\n",
    "        title2 = item_link2.find_by_tag('h3').text\n",
    "        url2 = item_link2['href']\n",
    "        item3 = items[3]\n",
    "        item_link3 = item3.find_by_css('div.description a')\n",
    "        title3 = item_link3.find_by_tag('h3').text\n",
    "        url3 = item_link3['href']\n",
    "        browser.visit(url0)\n",
    "        link0 = browser.find_by_text(\"Original\")[\"href\"]\n",
    "        browser.visit(url1)\n",
    "        link1 = browser.find_by_text(\"Original\")[\"href\"]\n",
    "        browser.visit(url2)\n",
    "        link2 = browser.find_by_text(\"Original\")[\"href\"]\n",
    "        browser.visit(url3)\n",
    "        link3 = browser.find_by_text(\"Original\")[\"href\"]\n",
    "        hemisphere_image_urls = [\n",
    "            {\"title\": title0, \"img_url\": link0},\n",
    "            {\"title\": title1, \"img_url\": link1},\n",
    "            {\"title\": title2, \"img_url\": link2},\n",
    "            {\"title\": title3, \"img_url\": link3}\n",
    "        ]\n",
    "        print(f\"Found hemisphere titles and image URLs: {hemisphere_image_urls}\")\n",
    "    except:\n",
    "        print(\"Error occurred while finding hemipshere titles and links...\")\n",
    "else:\n",
    "    print(\"Could not find the hemisphere title and image links.\")"
   ]
  },
  {
   "cell_type": "code",
   "execution_count": null,
   "metadata": {},
   "outputs": [],
   "source": []
  }
 ],
 "metadata": {
  "kernelspec": {
   "display_name": "Python 3",
   "language": "python",
   "name": "python3"
  },
  "language_info": {
   "codemirror_mode": {
    "name": "ipython",
    "version": 3
   },
   "file_extension": ".py",
   "mimetype": "text/x-python",
   "name": "python",
   "nbconvert_exporter": "python",
   "pygments_lexer": "ipython3",
   "version": "3.7.5"
  }
 },
 "nbformat": 4,
 "nbformat_minor": 4
}
